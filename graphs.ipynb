{
 "cells": [
  {
   "cell_type": "code",
   "execution_count": 1,
   "id": "d8aee3b6",
   "metadata": {},
   "outputs": [],
   "source": [
    "import numpy as np\n",
    "import pandas as pd\n",
    "import matplotlib.pyplot as plt"
   ]
  },
  {
   "cell_type": "code",
   "execution_count": 18,
   "id": "68c01e65",
   "metadata": {},
   "outputs": [],
   "source": [
    "agent_type = \"bfs\""
   ]
  },
  {
   "cell_type": "code",
   "execution_count": 19,
   "id": "811102d2",
   "metadata": {},
   "outputs": [],
   "source": [
    "df = pd.read_csv(f'experimental_data/grid4_{agent_type}.csv')"
   ]
  },
  {
   "cell_type": "code",
   "execution_count": null,
   "id": "98254ae7",
   "metadata": {},
   "outputs": [],
   "source": []
  },
  {
   "cell_type": "code",
   "execution_count": 20,
   "id": "f7e300ca",
   "metadata": {},
   "outputs": [
    {
     "data": {
      "image/png": "[encoded data removed]",
      "text/plain": [
       "<Figure size 864x432 with 1 Axes>"
      ]
     },
     "metadata": {
      "needs_background": "light"
     },
     "output_type": "display_data"
    }
   ],
   "source": [
    "plt.figure(figsize=(12, 6))\n",
    "\n",
    "colors = [\"red\", \"green\", \"blue\"]\n",
    "\n",
    "for i, color in enumerate(colors):\n",
    "    subset = df[[\"dist\", color]]\n",
    "    aux = [subset[subset['dist'] == dist][color].values for dist in subset['dist'].unique()]\n",
    "    plt.boxplot(\n",
    "        aux,\n",
    "        positions=np.array(subset['dist'].unique()) + i * 0.2 - 0.2,\n",
    "        widths=0.2,\n",
    "        patch_artist=True,\n",
    "        boxprops=dict(facecolor=color, alpha=0.6),\n",
    "        medianprops=dict(color='black'),\n",
    "        labels=subset['dist'].unique() if i == 0 else None  # Only set labels for the first color\n",
    "    )\n",
    "# Customize the x-axis\n",
    "plt.xticks(ticks=df.dist.unique(), labels=df.dist.unique())\n",
    "plt.xlabel('Dist')\n",
    "plt.ylabel('Value')\n",
    "plt.title('Boxplot of Values by Color and Dist')\n",
    "plt.legend(colors, title='Color')\n",
    "plt.grid(axis='y', linestyle='--', alpha=0.7)\n",
    "plt.tight_layout()\n",
    "plt.savefig(f'graphs/grid4_{agent_type}.pdf', bbox_inches='tight')"
   ]
  },
  {
   "cell_type": "code",
   "execution_count": 31,
   "id": "77a04639",
   "metadata": {},
   "outputs": [
    {
     "data": {
      "text/plain": [
       "0     1.0\n",
       "1     1.0\n",
       "2     1.0\n",
       "3     1.0\n",
       "4     1.0\n",
       "     ... \n",
       "91    1.0\n",
       "92    1.0\n",
       "93    1.0\n",
       "94    1.0\n",
       "95    1.0\n",
       "Name: red, Length: 96, dtype: float64"
      ]
     },
     "execution_count": 31,
     "metadata": {},
     "output_type": "execute_result"
    }
   ],
   "source": [
    "subset"
   ]
  },
  {
   "cell_type": "code",
   "execution_count": 43,
   "id": "9a97fdd1",
   "metadata": {},
   "outputs": [],
   "source": [
    "color = \"blue\"\n",
    "subset = df[[\"dist\", color]]\n",
    "\n",
    "\n",
    "aux = [subset[subset['dist'] == dist][color].values for dist in subset['dist'].unique()]"
   ]
  },
  {
   "cell_type": "code",
   "execution_count": 44,
   "id": "a4857210",
   "metadata": {},
   "outputs": [
    {
     "data": {
      "text/plain": [
       "array([0.82788245, 0.82788245, 0.82788245, 0.82788245, 0.04149482,\n",
       "       0.76679555, 0.7913105 , 0.04149482])"
      ]
     },
     "execution_count": 44,
     "metadata": {},
     "output_type": "execute_result"
    }
   ],
   "source": [
    "aux[1]"
   ]
  },
  {
   "cell_type": "code",
   "execution_count": null,
   "id": "38118945",
   "metadata": {},
   "outputs": [],
   "source": []
  }
 ],
 "metadata": {
  "kernelspec": {
   "display_name": "Python 3 (ipykernel)",
   "language": "python",
   "name": "python3"
  },
  "language_info": {
   "codemirror_mode": {
    "name": "ipython",
    "version": 3
   },
   "file_extension": ".py",
   "mimetype": "text/x-python",
   "name": "python",
   "nbconvert_exporter": "python",
   "pygments_lexer": "ipython3",
   "version": "3.9.7"
  }
 },
 "nbformat": 4,
 "nbformat_minor": 5
}
